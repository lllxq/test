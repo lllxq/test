{
  "nbformat": 4,
  "nbformat_minor": 0,
  "metadata": {
    "colab": {
      "name": "deep_learning_turkey.ipynb",
      "provenance": [],
      "authorship_tag": "ABX9TyNp7PAhIZuDQzi6rE8vh5E2",
      "include_colab_link": true
    },
    "kernelspec": {
      "name": "python3",
      "display_name": "Python 3"
    },
    "accelerator": "GPU"
  },
  "cells": [
    {
      "cell_type": "markdown",
      "metadata": {
        "id": "view-in-github",
        "colab_type": "text"
      },
      "source": [
        "<a href=\"https://colab.research.google.com/github/lllxq/test/blob/main/deep_learning_turkey.ipynb\" target=\"_parent\"><img src=\"https://colab.research.google.com/assets/colab-badge.svg\" alt=\"Open In Colab\"/></a>"
      ]
    },
    {
      "cell_type": "code",
      "metadata": {
        "id": "oDCeH56gBFqA",
        "outputId": "e968d29c-e926-4d70-ef6d-653ff3649331",
        "colab": {
          "base_uri": "https://localhost:8080/"
        }
      },
      "source": [
        "from google.colab import drive\n",
        "drive.mount('/content/drive/')"
      ],
      "execution_count": 1,
      "outputs": [
        {
          "output_type": "stream",
          "text": [
            "Mounted at /content/drive/\n"
          ],
          "name": "stdout"
        }
      ]
    },
    {
      "cell_type": "code",
      "metadata": {
        "id": "A0a5RUxFDmvw",
        "outputId": "9c26ad8f-d39d-4d81-f8be-2060d761fd66",
        "colab": {
          "base_uri": "https://localhost:8080/"
        }
      },
      "source": [
        "!ls \"/content/drive/My Drive/\""
      ],
      "execution_count": 2,
      "outputs": [
        {
          "output_type": "stream",
          "text": [
            " app  'Colab Notebooks'\n"
          ],
          "name": "stdout"
        }
      ]
    },
    {
      "cell_type": "code",
      "metadata": {
        "id": "BFQ6fwudDy6h",
        "outputId": "f21f2b66-d5e5-42f3-ff22-086834956286",
        "colab": {
          "base_uri": "https://localhost:8080/"
        }
      },
      "source": [
        "!cd /\n",
        "!ls"
      ],
      "execution_count": 3,
      "outputs": [
        {
          "output_type": "stream",
          "text": [
            "drive  sample_data\n"
          ],
          "name": "stdout"
        }
      ]
    },
    {
      "cell_type": "code",
      "metadata": {
        "id": "T0ovmz9IEBO_",
        "outputId": "fa234b69-e1bd-455a-d935-1d3eadde8edb",
        "colab": {
          "base_uri": "https://localhost:8080/"
        }
      },
      "source": [
        "!cd /\n",
        "!ls"
      ],
      "execution_count": 10,
      "outputs": [
        {
          "output_type": "stream",
          "text": [
            "drive  sample_data\n"
          ],
          "name": "stdout"
        }
      ]
    },
    {
      "cell_type": "code",
      "metadata": {
        "id": "TbyY-jFjEWuM",
        "outputId": "20ca7237-f9d1-46dc-c697-63e4719e2d34",
        "colab": {
          "base_uri": "https://localhost:8080/"
        }
      },
      "source": [
        "# -*- coding: utf-8 -*-\n",
        "\n",
        "\n",
        "'''Trains a simple convnet on the MNIST dataset.\n",
        "Gets to 99.25% test accuracy after 12 epochs\n",
        "(there is still a lot of margin for parameter tuning).\n",
        "16 seconds per epoch on a GRID K520 GPU.\n",
        "'''\n",
        "\n",
        "import keras\n",
        "from __future__ import print_function\n",
        "from keras.datasets import mnist\n",
        "from keras.models import Sequential\n",
        "from keras.layers import Dense, Dropout, Flatten\n",
        "from keras.layers import Conv2D, MaxPooling2D\n",
        "from keras import backend as K\n",
        "\n",
        "batch_size = 128\n",
        "num_classes = 10\n",
        "epochs = 12\n",
        "\n",
        "# input image dimensions\n",
        "img_rows, img_cols = 28, 28\n",
        "\n",
        "# the data, shuffled and split between train and test sets\n",
        "(x_train, y_train), (x_test, y_test) = mnist.load_data()\n",
        "\n",
        "if K.image_data_format() == 'channels_first':\n",
        "    x_train = x_train.reshape(x_train.shape[0], 1, img_rows, img_cols)\n",
        "    x_test = x_test.reshape(x_test.shape[0], 1, img_rows, img_cols)\n",
        "    input_shape = (1, img_rows, img_cols)\n",
        "else:\n",
        "    x_train = x_train.reshape(x_train.shape[0], img_rows, img_cols, 1)\n",
        "    x_test = x_test.reshape(x_test.shape[0], img_rows, img_cols, 1)\n",
        "    input_shape = (img_rows, img_cols, 1)\n",
        "\n",
        "x_train = x_train.astype('float32')\n",
        "x_test = x_test.astype('float32')\n",
        "x_train /= 255\n",
        "x_test /= 255\n",
        "print('x_train shape:', x_train.shape)\n",
        "print(x_train.shape[0], 'train samples')\n",
        "print(x_test.shape[0], 'test samples')\n",
        "\n",
        "# convert class vectors to binary class matrices\n",
        "y_train = keras.utils.to_categorical(y_train, num_classes)\n",
        "y_test = keras.utils.to_categorical(y_test, num_classes)\n",
        "\n",
        "model = Sequential()\n",
        "model.add(Conv2D(32, kernel_size=(3, 3),\n",
        "                 activation='relu',\n",
        "                 input_shape=input_shape))\n",
        "model.add(Conv2D(64, (3, 3), activation='relu'))\n",
        "model.add(MaxPooling2D(pool_size=(2, 2)))\n",
        "model.add(Dropout(0.25))\n",
        "model.add(Flatten())\n",
        "model.add(Dense(128, activation='relu'))\n",
        "model.add(Dropout(0.5))\n",
        "model.add(Dense(num_classes, activation='softmax'))\n",
        "\n",
        "model.compile(loss=keras.losses.categorical_crossentropy,\n",
        "              optimizer=keras.optimizers.Adadelta(),\n",
        "              metrics=['accuracy'])\n",
        "\n",
        "model.fit(x_train, y_train,\n",
        "          batch_size=batch_size,\n",
        "          epochs=epochs,\n",
        "          verbose=1,\n",
        "          validation_data=(x_test, y_test))\n",
        "score = model.evaluate(x_test, y_test, verbose=0)\n",
        "print('Test loss:', score[0])\n",
        "print('Test accuracy:', score[1])"
      ],
      "execution_count": 1,
      "outputs": [
        {
          "output_type": "stream",
          "text": [
            "Downloading data from https://storage.googleapis.com/tensorflow/tf-keras-datasets/mnist.npz\n",
            "11493376/11490434 [==============================] - 0s 0us/step\n",
            "x_train shape: (60000, 28, 28, 1)\n",
            "60000 train samples\n",
            "10000 test samples\n",
            "Epoch 1/12\n",
            "469/469 [==============================] - 4s 9ms/step - loss: 2.2888 - accuracy: 0.1366 - val_loss: 2.2566 - val_accuracy: 0.2455\n",
            "Epoch 2/12\n",
            "469/469 [==============================] - 4s 8ms/step - loss: 2.2337 - accuracy: 0.2446 - val_loss: 2.1884 - val_accuracy: 0.4557\n",
            "Epoch 3/12\n",
            "469/469 [==============================] - 4s 8ms/step - loss: 2.1646 - accuracy: 0.3486 - val_loss: 2.1017 - val_accuracy: 0.6002\n",
            "Epoch 4/12\n",
            "469/469 [==============================] - 4s 8ms/step - loss: 2.0728 - accuracy: 0.4379 - val_loss: 1.9858 - val_accuracy: 0.6782\n",
            "Epoch 5/12\n",
            "469/469 [==============================] - 4s 8ms/step - loss: 1.9519 - accuracy: 0.5042 - val_loss: 1.8296 - val_accuracy: 0.7226\n",
            "Epoch 6/12\n",
            "469/469 [==============================] - 4s 8ms/step - loss: 1.7954 - accuracy: 0.5571 - val_loss: 1.6317 - val_accuracy: 0.7563\n",
            "Epoch 7/12\n",
            "469/469 [==============================] - 4s 8ms/step - loss: 1.6160 - accuracy: 0.5941 - val_loss: 1.4142 - val_accuracy: 0.7731\n",
            "Epoch 8/12\n",
            "469/469 [==============================] - 4s 8ms/step - loss: 1.4400 - accuracy: 0.6264 - val_loss: 1.2092 - val_accuracy: 0.7920\n",
            "Epoch 9/12\n",
            "469/469 [==============================] - 4s 8ms/step - loss: 1.2839 - accuracy: 0.6512 - val_loss: 1.0391 - val_accuracy: 0.8052\n",
            "Epoch 10/12\n",
            "469/469 [==============================] - 4s 8ms/step - loss: 1.1618 - accuracy: 0.6710 - val_loss: 0.9089 - val_accuracy: 0.8138\n",
            "Epoch 11/12\n",
            "469/469 [==============================] - 4s 8ms/step - loss: 1.0630 - accuracy: 0.6895 - val_loss: 0.8103 - val_accuracy: 0.8245\n",
            "Epoch 12/12\n",
            "469/469 [==============================] - 4s 8ms/step - loss: 0.9846 - accuracy: 0.7073 - val_loss: 0.7356 - val_accuracy: 0.8315\n",
            "Test loss: 0.7356475591659546\n",
            "Test accuracy: 0.8314999938011169\n"
          ],
          "name": "stdout"
        }
      ]
    },
    {
      "cell_type": "code",
      "metadata": {
        "id": "z29J9_AdGHYj",
        "outputId": "b686562c-6b7f-4e65-8000-76d81436cd30",
        "colab": {
          "base_uri": "https://localhost:8080/",
          "height": 35
        }
      },
      "source": [
        "import tensorflow as tf\n",
        "tf.test.gpu_device_name()"
      ],
      "execution_count": 2,
      "outputs": [
        {
          "output_type": "execute_result",
          "data": {
            "application/vnd.google.colaboratory.intrinsic+json": {
              "type": "string"
            },
            "text/plain": [
              "'/device:GPU:0'"
            ]
          },
          "metadata": {
            "tags": []
          },
          "execution_count": 2
        }
      ]
    },
    {
      "cell_type": "code",
      "metadata": {
        "id": "tXR_HflzGP4i",
        "outputId": "8aee9d6a-63d5-47b0-c7af-1c1ede65c048",
        "colab": {
          "base_uri": "https://localhost:8080/"
        }
      },
      "source": [
        "from tensorflow.python.client import device_lib\n",
        "device_lib.list_local_devices()"
      ],
      "execution_count": 3,
      "outputs": [
        {
          "output_type": "execute_result",
          "data": {
            "text/plain": [
              "[name: \"/device:CPU:0\"\n",
              " device_type: \"CPU\"\n",
              " memory_limit: 268435456\n",
              " locality {\n",
              " }\n",
              " incarnation: 5862591397169964683, name: \"/device:XLA_CPU:0\"\n",
              " device_type: \"XLA_CPU\"\n",
              " memory_limit: 17179869184\n",
              " locality {\n",
              " }\n",
              " incarnation: 11222009319517077315\n",
              " physical_device_desc: \"device: XLA_CPU device\", name: \"/device:XLA_GPU:0\"\n",
              " device_type: \"XLA_GPU\"\n",
              " memory_limit: 17179869184\n",
              " locality {\n",
              " }\n",
              " incarnation: 14511691292042751356\n",
              " physical_device_desc: \"device: XLA_GPU device\", name: \"/device:GPU:0\"\n",
              " device_type: \"GPU\"\n",
              " memory_limit: 14640891840\n",
              " locality {\n",
              "   bus_id: 1\n",
              "   links {\n",
              "   }\n",
              " }\n",
              " incarnation: 349508169396733825\n",
              " physical_device_desc: \"device: 0, name: Tesla T4, pci bus id: 0000:00:04.0, compute capability: 7.5\"]"
            ]
          },
          "metadata": {
            "tags": []
          },
          "execution_count": 3
        }
      ]
    },
    {
      "cell_type": "code",
      "metadata": {
        "id": "ePCdup7pGjpj",
        "outputId": "10b17f05-71f2-49e8-e006-44ac6c72e403",
        "colab": {
          "base_uri": "https://localhost:8080/"
        }
      },
      "source": [
        "!cat /proc/meminfo"
      ],
      "execution_count": 4,
      "outputs": [
        {
          "output_type": "stream",
          "text": [
            "MemTotal:       13333596 kB\n",
            "MemFree:         7285660 kB\n",
            "MemAvailable:   10614860 kB\n",
            "Buffers:           80188 kB\n",
            "Cached:          2877504 kB\n",
            "SwapCached:            0 kB\n",
            "Active:          2414212 kB\n",
            "Inactive:        3228260 kB\n",
            "Active(anon):    2119532 kB\n",
            "Inactive(anon):    14680 kB\n",
            "Active(file):     294680 kB\n",
            "Inactive(file):  3213580 kB\n",
            "Unevictable:           0 kB\n",
            "Mlocked:               0 kB\n",
            "SwapTotal:             0 kB\n",
            "SwapFree:              0 kB\n",
            "Dirty:               492 kB\n",
            "Writeback:             0 kB\n",
            "AnonPages:       2684828 kB\n",
            "Mapped:           740588 kB\n",
            "Shmem:             15292 kB\n",
            "Slab:             170952 kB\n",
            "SReclaimable:     123588 kB\n",
            "SUnreclaim:        47364 kB\n",
            "KernelStack:        4304 kB\n",
            "PageTables:        12704 kB\n",
            "NFS_Unstable:          0 kB\n",
            "Bounce:                0 kB\n",
            "WritebackTmp:          0 kB\n",
            "CommitLimit:     6666796 kB\n",
            "Committed_AS:    5160656 kB\n",
            "VmallocTotal:   34359738367 kB\n",
            "VmallocUsed:           0 kB\n",
            "VmallocChunk:          0 kB\n",
            "Percpu:              952 kB\n",
            "AnonHugePages:    223232 kB\n",
            "ShmemHugePages:        0 kB\n",
            "ShmemPmdMapped:        0 kB\n",
            "HugePages_Total:       0\n",
            "HugePages_Free:        0\n",
            "HugePages_Rsvd:        0\n",
            "HugePages_Surp:        0\n",
            "Hugepagesize:       2048 kB\n",
            "Hugetlb:               0 kB\n",
            "DirectMap4k:      177384 kB\n",
            "DirectMap2M:     5064704 kB\n",
            "DirectMap1G:    10485760 kB\n"
          ],
          "name": "stdout"
        }
      ]
    }
  ]
}